{
 "cells": [
  {
   "cell_type": "markdown",
   "id": "e30f4f0b",
   "metadata": {},
   "source": [
    "# ATM Withdrawl and Deposite Machine"
   ]
  },
  {
   "cell_type": "code",
   "execution_count": 3,
   "id": "5b28b0f5",
   "metadata": {},
   "outputs": [
    {
     "name": "stdout",
     "output_type": "stream",
     "text": [
      "Options \n",
      " 1. Account open \n",
      " 2. Withdraw \n",
      " 3. Deposite \n",
      " 4. Exit\n",
      "Enter the number of given option :4\n",
      "Thanku Sir for Visit here 🙏\n"
     ]
    }
   ],
   "source": [
    "db = {}\n",
    "while True:\n",
    "    print(\"Options \\n 1. Account open \\n 2. Withdraw \\n 3. Deposite \\n 4. Exit\")\n",
    "    option=int(input(\"Enter the number of given option :\"))\n",
    "    if option==1:\n",
    "        while True:\n",
    "            pin=(input(\"Enter your creating Account pin or type exit for quit :\"))\n",
    "            if pin.lower()==\"exit\":\n",
    "                print(\"Thanku Sir🙏\")\n",
    "                break\n",
    "            name = input(\"Enter your Full name with space : \")\n",
    "            print(\"Welcome Sir😊\")\n",
    "            Phone_number=int(input(\"Enter your Phone Number : \"))\n",
    "            amount = int(input(\"Enter the amount the you want to deposite while a/c open  : \"))\n",
    "            db[pin]=({\"Name\":name ,\"phone\":Phone_number, \"Balance\":amount})\n",
    "    if option==2:\n",
    "        user_pin=(input(\"Enter your Account Pin :\"))\n",
    "        if db[user_pin][\"Balance\"]>=5000:\n",
    "            withdraw = int(input(\"Enter the amount that you want to withdraw : \"))\n",
    "            db[user_pin][\"Balance\"]-= withdraw\n",
    "            a=db[user_pin][\"Balance\"]\n",
    "            print(f\"Your withdraw amount is {withdraw} and total Balance is {a}\")\n",
    "        else:\n",
    "            print(\"Inffucient Balance!\")\n",
    "    if option==3:\n",
    "        user_pin=(input(\"Enter your Account Pin :\"))\n",
    "        Credit = int(input(\"Enter the amount that you want to Add : \"))\n",
    "        if Credit>=10000:\n",
    "            db[user_pin][\"Balance\"]+= Credit\n",
    "            b=db[user_pin][\"Balance\"]\n",
    "            print(f\"Your Added Balance amount is {Credit} and total Balance {b}\")\n",
    "        else:\n",
    "            print(\"you can credit above 10000\")\n",
    "    if option==4:\n",
    "        print(\"Thanku Sir for Visit here 🙏\")\n",
    "        break"
   ]
  },
  {
   "cell_type": "code",
   "execution_count": null,
   "id": "44c12a27",
   "metadata": {},
   "outputs": [],
   "source": []
  }
 ],
 "metadata": {
  "kernelspec": {
   "display_name": "Python 3 (ipykernel)",
   "language": "python",
   "name": "python3"
  },
  "language_info": {
   "codemirror_mode": {
    "name": "ipython",
    "version": 3
   },
   "file_extension": ".py",
   "mimetype": "text/x-python",
   "name": "python",
   "nbconvert_exporter": "python",
   "pygments_lexer": "ipython3",
   "version": "3.11.4"
  }
 },
 "nbformat": 4,
 "nbformat_minor": 5
}
